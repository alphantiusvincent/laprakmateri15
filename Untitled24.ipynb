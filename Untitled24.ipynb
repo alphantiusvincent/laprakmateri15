{
  "nbformat": 4,
  "nbformat_minor": 0,
  "metadata": {
    "colab": {
      "provenance": []
    },
    "kernelspec": {
      "name": "python3",
      "display_name": "Python 3"
    },
    "language_info": {
      "name": "python"
    }
  },
  "cells": [
    {
      "cell_type": "code",
      "execution_count": null,
      "metadata": {
        "id": "GAQ2BhNWgswq"
      },
      "outputs": [],
      "source": [
        "import re\n",
        "handle=open('mbox-short.txt')\n",
        "count = 0\n",
        "for line in handle:\n",
        "    line=line.rstrip()\n",
        "    if re.search('From:', line):\n",
        "        count += 1\n",
        "        print(line)\n",
        "print(\"Count: \",count)"
      ]
    },
    {
      "cell_type": "code",
      "source": [
        "import re\n",
        "handle=open('mbox-short.txt')\n",
        "count = 0\n",
        "for line in handle:\n",
        "    line=line.rstrip()\n",
        "    if re.search('^From:', line):\n",
        "        count += 1\n",
        "        print(line)\n",
        "# print(\"Count: \",count)"
      ],
      "metadata": {
        "id": "GRNCvPbPkvYb"
      },
      "execution_count": null,
      "outputs": []
    },
    {
      "cell_type": "code",
      "source": [
        "import re\n",
        "\n",
        "txt = \"Sang mata-mata sedang memata-matai kasus kaca mata di toko Matahari\"\n",
        "x = re.findall(\"mata\", txt)\n",
        "y = re.findall(\"saya\", txt)\n",
        "for i in x:\n",
        "    print(i)\n",
        "if (y):\n",
        "    print(\"Ada yang cocok!\")\n",
        "else:\n",
        "    print(\"Tidak ada yang cocok!\")"
      ],
      "metadata": {
        "id": "2dRuEkImkvcD"
      },
      "execution_count": null,
      "outputs": []
    },
    {
      "cell_type": "code",
      "source": [
        "import re\n",
        "\n",
        "txt = \"Sang mata-mata sedang memata-matai kasus kaca mata di toko Matahari\"\n",
        "x = re.search(\"\\s\", txt)\n",
        "y = re.search(\"saya\", txt)\n",
        "\n",
        "print(\"Spasi ditemukan di:\", x.start())\n",
        "print(y)"
      ],
      "metadata": {
        "id": "XTJo6Pcgkvfv"
      },
      "execution_count": null,
      "outputs": []
    },
    {
      "cell_type": "code",
      "source": [
        "\n",
        "import re\n",
        "handle=open('mbox-short.txt')\n",
        "for line in handle:\n",
        "    line=line.rstrip()\n",
        "    if(re.search('^X-.*: [0-9.]+', line)):\n",
        "        print(line)"
      ],
      "metadata": {
        "id": "Z3uBERO9kvjM"
      },
      "execution_count": null,
      "outputs": []
    },
    {
      "cell_type": "code",
      "source": [
        "import re\n",
        "\n",
        "txt = \"The rain in Spain\"\n",
        "x = re.split(\"\\s\", txt)\n",
        "print(x)\n",
        "y = re.split(\"\\s\", txt, 1) #split 1 kata pertama\n",
        "print(x)"
      ],
      "metadata": {
        "id": "hxrqLjk5kvmy"
      },
      "execution_count": null,
      "outputs": []
    },
    {
      "cell_type": "code",
      "source": [
        "import re\n",
        "\n",
        "txt = \"Sang mata-mata sedang memata-matai kasus kaca mata di toko Matahari\"\n",
        "x = re.sub(\"\\s\", \"-\", txt) #mengganti spasi dengan -\n",
        "print(x)\n",
        "y = re.sub(\"\\s\", \"*\", txt, 2) #mengganti spasi dengan * 2 saja\n",
        "print(y)"
      ],
      "metadata": {
        "id": "WUpg_PPFkvtF"
      },
      "execution_count": null,
      "outputs": []
    }
  ]
}